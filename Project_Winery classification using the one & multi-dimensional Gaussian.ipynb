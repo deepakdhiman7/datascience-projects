{
 "cells": [
  {
   "cell_type": "code",
   "execution_count": 1,
   "metadata": {},
   "outputs": [],
   "source": [
    "# Standard includes\n",
    "%matplotlib inline\n",
    "import numpy as np\n",
    "import matplotlib.pyplot as plt\n",
    "# Useful module for dealing with the Gaussian density\n",
    "from scipy.stats import norm, multivariate_normal\n",
    "# installing packages for interactive graphs\n",
    "import ipywidgets as widgets\n",
    "from IPython.display import display\n",
    "from ipywidgets import interact, interactive, fixed, interact_manual, IntSlider"
   ]
  },
  {
   "cell_type": "code",
   "execution_count": 2,
   "metadata": {},
   "outputs": [],
   "source": [
    "data=np.loadtxt(r\"C:\\Users\\user\\Desktop\\DataScience\\UCSenDiego_ML\\2_GenerativeModellingApproach\\winery-univariate\\winery-univariate\\wine.data.txt\",delimiter=',')"
   ]
  },
  {
   "cell_type": "code",
   "execution_count": 3,
   "metadata": {},
   "outputs": [],
   "source": [
    "# data[:,0]"
   ]
  },
  {
   "cell_type": "code",
   "execution_count": 4,
   "metadata": {},
   "outputs": [],
   "source": [
    "featurenames = ['Alcohol', 'Malic acid', 'Ash', 'Alcalinity of ash','Magnesium', 'Total phenols', \n",
    "                'Flavanoids', 'Nonflavanoid phenols', 'Proanthocyanins', 'Color intensity', 'Hue', \n",
    "                'OD280/OD315 of diluted wines', 'Proline']"
   ]
  },
  {
   "cell_type": "code",
   "execution_count": 5,
   "metadata": {},
   "outputs": [
    {
     "name": "stdout",
     "output_type": "stream",
     "text": [
      "177\n"
     ]
    }
   ],
   "source": [
    "np.random.seed(0)\n",
    "perm=np.random.permutation(178)\n",
    "print(max(perm))"
   ]
  },
  {
   "cell_type": "code",
   "execution_count": 6,
   "metadata": {},
   "outputs": [],
   "source": [
    "trainx=data[perm[0:130],1:14]\n",
    "trainy=data[perm[0:130],0]\n",
    "testx=data[perm[130:178],1:14]\n",
    "testy=data[perm[130:178],0]"
   ]
  },
  {
   "cell_type": "code",
   "execution_count": 7,
   "metadata": {},
   "outputs": [
    {
     "data": {
      "text/plain": [
       "array([1., 3., 2., 1., 2., 2., 1., 3., 2., 2., 3., 3., 1., 2., 3., 2., 1.,\n",
       "       1., 2., 1., 2., 1., 1., 2., 2., 2., 2., 2., 2., 3., 1., 1., 2., 1.,\n",
       "       1., 1., 3., 2., 2., 3., 1., 1., 2., 2., 2., 1., 3., 2., 3., 1., 3.,\n",
       "       3., 1., 3., 1., 2., 3., 3., 2., 3., 3., 1., 2., 3., 2., 2., 3., 2.,\n",
       "       1., 2., 2., 2., 1., 1., 2., 2., 3., 3., 2., 2., 2., 3., 3., 1., 3.,\n",
       "       2., 2., 2., 2., 2., 1., 1., 2., 1., 3., 1., 3., 1., 1., 2., 1., 2.,\n",
       "       2., 1., 3., 2., 1., 2., 2., 2., 3., 1., 3., 3., 1., 1., 2., 3., 1.,\n",
       "       1., 2., 2., 1., 1., 1., 3., 2., 1., 2., 3.])"
      ]
     },
     "execution_count": 7,
     "metadata": {},
     "output_type": "execute_result"
    }
   ],
   "source": [
    "trainy"
   ]
  },
  {
   "cell_type": "code",
   "execution_count": 8,
   "metadata": {},
   "outputs": [],
   "source": [
    "def density_plot(label, feature):\n",
    "    mu=np.mean(trainx[trainy==label, feature])\n",
    "    variance=np.var(trainx[trainy==label, feature])\n",
    "    stdv=np.sqrt(variance)\n",
    "    plt.hist(trainx[trainy==label, feature], density=True)\n",
    "    x_axis = np.linspace(mu- 3*stdv,mu+ 3*stdv, 1000)\n",
    "    plt.plot(x_axis, norm.pdf(x_axis, mu, stdv), 'r', lw=2)\n",
    "    plt.title('Winery '+str(label))\n",
    "    plt.xlabel(featurenames[feature])\n",
    "    plt.ylabel('Density')\n",
    "\n"
   ]
  },
  {
   "cell_type": "code",
   "execution_count": 9,
   "metadata": {},
   "outputs": [
    {
     "data": {
      "image/png": "[encoded data removed]",
      "text/plain": [
       "<Figure size 432x288 with 1 Axes>"
      ]
     },
     "metadata": {
      "needs_background": "light"
     },
     "output_type": "display_data"
    }
   ],
   "source": [
    "density_plot(2,5)"
   ]
  },
  {
   "cell_type": "code",
   "execution_count": 10,
   "metadata": {},
   "outputs": [
    {
     "name": "stdout",
     "output_type": "stream",
     "text": [
      "Nonflavanoid phenols = 0.05964288894974403\n"
     ]
    }
   ],
   "source": [
    "#feature with minimum std for label 1\n",
    "\n",
    "a=[]\n",
    "for i in range(0,13):\n",
    "    b=np.std(trainx[trainy==1,i])\n",
    "    a.append(b)\n",
    "\n",
    "print(featurenames[np.argmin(a)],'=', np.min(a))"
   ]
  },
  {
   "cell_type": "code",
   "execution_count": 11,
   "metadata": {},
   "outputs": [
    {
     "name": "stdout",
     "output_type": "stream",
     "text": [
      "[0.33076923076923076]\n",
      "[0.33076923076923076, 0.4153846153846154]\n",
      "[0.33076923076923076, 0.4153846153846154, 0.25384615384615383]\n",
      "1.0\n"
     ]
    }
   ],
   "source": [
    "pi=[]\n",
    "for label in range(1,4):\n",
    "#     print(len(trainx[trainy==label,:]))\n",
    "    a=len(trainx[trainy==label,:])/len(trainx)\n",
    "    pi.append(a)\n",
    "    print(pi)\n",
    "print(sum(pi))"
   ]
  },
  {
   "cell_type": "code",
   "execution_count": 12,
   "metadata": {},
   "outputs": [],
   "source": [
    "def fit_generative_model(trainx,trainy,feature):\n",
    "    mu=np.zeros(4)\n",
    "    var=np.zeros(4)\n",
    "    pi=np.zeros(4)\n",
    "    for label in range(1,4):\n",
    "        indices=(trainy==label)\n",
    "        mu[label]=np.mean(trainx[indices,feature])\n",
    "        var[label]=np.var(trainx[indices,feature])\n",
    "        pi[label]=float(sum(indices))/float(len(trainy))\n",
    "    return mu,var,pi"
   ]
  },
  {
   "cell_type": "code",
   "execution_count": 13,
   "metadata": {},
   "outputs": [
    {
     "name": "stdout",
     "output_type": "stream",
     "text": [
      "[ 0.         13.78534884 12.31092593 13.15969697] [0.         0.23325279 0.2819047  0.2851787 ] [0.         0.33076923 0.41538462 0.25384615]\n"
     ]
    }
   ],
   "source": [
    "mu,var,pi=fit_generative_model(trainx,trainy,0)\n",
    "print(mu,var,pi)"
   ]
  },
  {
   "cell_type": "code",
   "execution_count": 14,
   "metadata": {},
   "outputs": [],
   "source": [
    "def predictor_funtion(feature):\n",
    "    mu,var,pi=fit_generative_model(trainx,trainy,feature)\n",
    "    records=len(testy)\n",
    "    score=np.zeros((records,4))\n",
    "    for i in range(len(testy)):\n",
    "        for label in range(1,4):\n",
    "            score[i,label]=np.log(pi[label]) + norm.logpdf(testx[i,feature],mu[label], np.sqrt(var[label]))\n",
    "    prediction=np.argmax(score[:,1:4], axis=1)+1\n",
    "    return prediction"
   ]
  },
  {
   "cell_type": "code",
   "execution_count": 15,
   "metadata": {},
   "outputs": [
    {
     "name": "stdout",
     "output_type": "stream",
     "text": [
      "[1 2 2 2 1 3 2 1 2 2 1 1 2 1 3 2 2 1 1 1 2 1 2 2 2 2 3 1 1 2 3 2 2 1 1 1 3\n",
      " 2 2 2 3 3 1 2 2 2 1 1]\n"
     ]
    }
   ],
   "source": [
    "a=predictor_funtion(0)\n",
    "len(a)\n",
    "print(a)"
   ]
  },
  {
   "cell_type": "code",
   "execution_count": 16,
   "metadata": {},
   "outputs": [
    {
     "data": {
      "text/plain": [
       "array([[1.374e+01, 1.670e+00, 2.250e+00, 1.640e+01, 1.180e+02, 2.600e+00,\n",
       "        2.900e+00, 2.100e-01, 1.620e+00, 5.850e+00, 9.200e-01, 3.200e+00,\n",
       "        1.060e+03],\n",
       "       [1.279e+01, 2.670e+00, 2.480e+00, 2.200e+01, 1.120e+02, 1.480e+00,\n",
       "        1.360e+00, 2.400e-01, 1.260e+00, 1.080e+01, 4.800e-01, 1.470e+00,\n",
       "        4.800e+02]])"
      ]
     },
     "execution_count": 16,
     "metadata": {},
     "output_type": "execute_result"
    }
   ],
   "source": [
    "trainx[0:2]"
   ]
  },
  {
   "cell_type": "code",
   "execution_count": 110,
   "metadata": {},
   "outputs": [
    {
     "ename": "SyntaxError",
     "evalue": "invalid syntax (<ipython-input-110-959249faa7fe>, line 4)",
     "output_type": "error",
     "traceback": [
      "\u001b[1;36m  File \u001b[1;32m\"<ipython-input-110-959249faa7fe>\"\u001b[1;36m, line \u001b[1;32m4\u001b[0m\n\u001b[1;33m    print(mu)\u001b[0m\n\u001b[1;37m        ^\u001b[0m\n\u001b[1;31mSyntaxError\u001b[0m\u001b[1;31m:\u001b[0m invalid syntax\n"
     ]
    }
   ],
   "source": [
    "feature=[0,1,2]\n",
    "mu=[]\n",
    "mu.append(np.mean(trainx[trainy==1,feature[0]])\n",
    "print(mu)"
   ]
  },
  {
   "cell_type": "code",
   "execution_count": 150,
   "metadata": {},
   "outputs": [],
   "source": [
    "def get_mu_cvar(x,features):\n",
    "    mu=np.mean(x[:,features], axis=0)\n",
    "    covar=np.cov(x[:,features], rowvar=0, bias=1)\n",
    "    return mu,covar"
   ]
  },
  {
   "cell_type": "code",
   "execution_count": 153,
   "metadata": {},
   "outputs": [
    {
     "name": "stdout",
     "output_type": "stream",
     "text": [
      "mean:\n",
      " [13.78534884  2.99627907]\n",
      "covariance:\n",
      " [[0.23325279 0.07526874]\n",
      " [0.07526874 0.15240941]]\n"
     ]
    }
   ],
   "source": [
    "mean, covariance=get_mu_cvar(trainx[trainy==1,:], [0,6])\n",
    "print('mean:\\n',mean)\n",
    "print('covariance:\\n',covariance)"
   ]
  },
  {
   "cell_type": "code",
   "execution_count": 158,
   "metadata": {},
   "outputs": [
    {
     "data": {
      "text/plain": [
       "Text(0.5, 1.0, 'Class 1')"
      ]
     },
     "execution_count": 158,
     "metadata": {},
     "output_type": "execute_result"
    },
    {
     "data": {
      "image/png": "[encoded data removed]",
      "text/plain": [
       "<Figure size 432x288 with 1 Axes>"
      ]
     },
     "metadata": {
      "needs_background": "light"
     },
     "output_type": "display_data"
    }
   ],
   "source": [
    "f1=0\n",
    "f2=1\n",
    "label=1\n",
    "plt.plot(trainx[trainy==label, f1], trainx[trainy==label, f2], 'ro')\n",
    "plt.xlabel(featurenames[f1], fontsize=14, color='red')\n",
    "plt.ylabel(featurenames[f2], fontsize=14, color='red')\n",
    "plt.title('Class ' + str(label), fontsize=14, color='blue')"
   ]
  },
  {
   "cell_type": "code",
   "execution_count": 201,
   "metadata": {},
   "outputs": [],
   "source": [
    "def multi_generative_model(x,y,feature):\n",
    "    k=3\n",
    "    d=len(feature)\n",
    "    mean=np.zeros((k+1,d))\n",
    "    covariance=np.zeros((k+1,d,d))\n",
    "    pi=np.zeros(k+1)\n",
    "    for label in range(1,k+1):\n",
    "        indices=(y==label)\n",
    "        mean[label,:], covariance[label,:,:]=get_mu_cvar(x[indices,:],feature)\n",
    "        pi[label]=float(sum(indices))/float(len(y))\n",
    "    return mean,covariance,pi"
   ]
  },
  {
   "cell_type": "code",
   "execution_count": 202,
   "metadata": {
    "scrolled": true
   },
   "outputs": [
    {
     "name": "stdout",
     "output_type": "stream",
     "text": [
      "mean\n",
      " [[ 0.          0.        ]\n",
      " [13.78534884  2.02232558]\n",
      " [12.31092593  1.91925926]\n",
      " [13.15969697  3.37727273]]\n",
      "covariance\n",
      " [[[ 0.          0.        ]\n",
      "  [ 0.          0.        ]]\n",
      "\n",
      " [[ 0.23325279 -0.01359616]\n",
      "  [-0.01359616  0.43132948]]\n",
      "\n",
      " [[ 0.2819047  -0.03037339]\n",
      "  [-0.03037339  1.17309945]]\n",
      "\n",
      " [[ 0.2851787   0.04382948]\n",
      "  [ 0.04382948  1.36014105]]]\n",
      "Pi\n",
      " [0.         0.33076923 0.41538462 0.25384615]\n"
     ]
    }
   ],
   "source": [
    "mu,cv, pi = multi_generative_model(trainx,trainy,[0,1])\n",
    "print('mean\\n', mu)\n",
    "print('covariance\\n', cv)\n",
    "print('Pi\\n',pi)\n"
   ]
  },
  {
   "cell_type": "code",
   "execution_count": null,
   "metadata": {},
   "outputs": [],
   "source": [
    "test_model(f1):\n",
    "    \n",
    "\n",
    "np.log(pi[i])+multivariate_normal.logpdf(testx[i,j], mean=mu[label,feature])"
   ]
  }
 ],
 "metadata": {
  "kernelspec": {
   "display_name": "Python 3",
   "language": "python",
   "name": "python3"
  },
  "language_info": {
   "codemirror_mode": {
    "name": "ipython",
    "version": 3
   },
   "file_extension": ".py",
   "mimetype": "text/x-python",
   "name": "python",
   "nbconvert_exporter": "python",
   "pygments_lexer": "ipython3",
   "version": "3.7.4"
  }
 },
 "nbformat": 4,
 "nbformat_minor": 2
}
