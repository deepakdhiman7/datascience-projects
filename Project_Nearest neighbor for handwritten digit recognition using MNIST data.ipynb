{
 "cells": [
  {
   "cell_type": "code",
   "execution_count": 3,
   "metadata": {},
   "outputs": [],
   "source": [
    "%matplotlib inline\n",
    "import numpy as np\n",
    "import matplotlib.pyplot as plt\n",
    "import time\n",
    "\n",
    "train_data=np.load(r\"C:\\Users\\user\\Desktop\\DataScience\\UCSenDiego_ML\\1_NNearestNeighbourhood\\NN_MNIST\\NN_MNIST\\MNIST\\train_data.npy\")\n",
    "train_label=np.load(r\"C:\\Users\\user\\Desktop\\DataScience\\UCSenDiego_ML\\1_NNearestNeighbourhood\\NN_MNIST\\NN_MNIST\\MNIST\\train_labels.npy\")\n",
    "\n",
    "test_data = np.load(r\"C:\\Users\\user\\Desktop\\DataScience\\UCSenDiego_ML\\1_NNearestNeighbourhood\\NN_MNIST\\NN_MNIST\\MNIST\\test_data.npy\")\n",
    "test_labels = np.load(r\"C:\\Users\\user\\Desktop\\DataScience\\UCSenDiego_ML\\1_NNearestNeighbourhood\\NN_MNIST\\NN_MNIST\\MNIST\\test_labels.npy\")\n"
   ]
  },
  {
   "cell_type": "code",
   "execution_count": 12,
   "metadata": {},
   "outputs": [
    {
     "name": "stdout",
     "output_type": "stream",
     "text": [
      "(7500, 784)\n",
      "(1000, 784)\n"
     ]
    }
   ],
   "source": [
    "print(train_data.shape)\n",
    "print(test_data.shape)\n"
   ]
  },
  {
   "cell_type": "code",
   "execution_count": 38,
   "metadata": {},
   "outputs": [
    {
     "name": "stdout",
     "output_type": "stream",
     "text": [
      "Train digits: Train counts\n",
      "{0: 750, 1: 750, 2: 750, 3: 750, 4: 750, 5: 750, 6: 750, 7: 750, 8: 750, 9: 750}\n",
      "Test digits: Test counts\n",
      "{0: 100, 1: 100, 2: 100, 3: 100, 4: 100, 5: 100, 6: 100, 7: 100, 8: 100, 9: 100}\n"
     ]
    }
   ],
   "source": [
    "train_digits, train_counts =np.unique(train_label, return_counts=True)\n",
    "print(\"Train digits: Train counts\")\n",
    "print(dict(zip(train_digits, train_counts)))\n",
    "\n",
    "test_digit, test_counts=np.unique(test_labels,return_counts=True)\n",
    "print(\"Test digits: Test counts\")\n",
    "print(dict(zip(test_digit, test_counts)))\n"
   ]
  },
  {
   "cell_type": "code",
   "execution_count": 49,
   "metadata": {},
   "outputs": [
    {
     "data": {
      "text/plain": [
       "(784,)"
      ]
     },
     "execution_count": 49,
     "metadata": {},
     "output_type": "execute_result"
    }
   ],
   "source": []
  },
  {
   "cell_type": "code",
   "execution_count": 50,
   "metadata": {},
   "outputs": [],
   "source": [
    "def show_digit(x):\n",
    "    plt.axis('off')\n",
    "    plt.imshow(x.reshape(28,28))\n",
    "    return\n",
    "\n",
    "def vis_image(index, dataset='train'):\n",
    "    if(dataset=='train'):\n",
    "        show_digit(train_data[index,])\n",
    "        label=train_label[index,]\n",
    "        #print('label '+str(label))\n",
    "    else:\n",
    "            show_digit(test_data[index,])\n",
    "            label=test_labels[index,]\n",
    "    print('label '+str(label))\n",
    "    return"
   ]
  },
  {
   "cell_type": "code",
   "execution_count": 57,
   "metadata": {},
   "outputs": [
    {
     "data": {
      "text/plain": [
       "array([9, 2, 8, 3, 7, 1, 6, 7], dtype=uint8)"
      ]
     },
     "execution_count": 57,
     "metadata": {},
     "output_type": "execute_result"
    }
   ],
   "source": [
    "train_label[0:8]"
   ]
  },
  {
   "cell_type": "code",
   "execution_count": 59,
   "metadata": {},
   "outputs": [
    {
     "name": "stdout",
     "output_type": "stream",
     "text": [
      "label 7\n"
     ]
    },
    {
     "data": {
      "image/png": "[encoded data removed]",
      "text/plain": [
       "<Figure size 432x288 with 1 Axes>"
      ]
     },
     "metadata": {
      "needs_background": "light"
     },
     "output_type": "display_data"
    }
   ],
   "source": [
    "#show_digit(train_data[1])\n",
    "vis_image(7, 'train')"
   ]
  },
  {
   "cell_type": "code",
   "execution_count": 61,
   "metadata": {},
   "outputs": [],
   "source": [
    "def squared_dist(x,y):\n",
    "    return np.sum(np.square(x-y))"
   ]
  },
  {
   "cell_type": "code",
   "execution_count": 69,
   "metadata": {},
   "outputs": [
    {
     "name": "stdout",
     "output_type": "stream",
     "text": [
      "973740.0\n",
      "4911\n",
      "3\n",
      "1\n"
     ]
    }
   ],
   "source": [
    "x=3\n",
    "distances = [squared_dist(x, train_data[i,]) for i in range(len(train_label))]\n",
    "print(np.min(distances))\n",
    "a=np.argmin(distances)\n",
    "print(np.argmin(distances))\n",
    "print(train_label[x])\n",
    "print(train_label[a])"
   ]
  },
  {
   "cell_type": "code",
   "execution_count": 1,
   "metadata": {},
   "outputs": [],
   "source": [
    "from sklearn.neighbors import BallTree\n",
    "\n",
    "t_before=time.time()\n",
    "ball_tree= BallTree(train_data)\n",
    "t_after=time.time()\n",
    "\n",
    "t_training=t_after-t_before\n",
    "\n",
    "t_before=time.time()\n",
    "test_nn=ball_tree"
   ]
  },
  {
   "cell_type": "code",
   "execution_count": 11,
   "metadata": {},
   "outputs": [
    {
     "data": {
      "text/plain": [
       "array([[[2, 2],\n",
       "        [3, 3],\n",
       "        [4, 4]]])"
      ]
     },
     "execution_count": 11,
     "metadata": {},
     "output_type": "execute_result"
    }
   ],
   "source": [
    "a=np.array([[[2,2],[3,3],[4,4]]])\n",
    "a"
   ]
  },
  {
   "cell_type": "code",
   "execution_count": null,
   "metadata": {},
   "outputs": [],
   "source": []
  }
 ],
 "metadata": {
  "kernelspec": {
   "display_name": "Python 3",
   "language": "python",
   "name": "python3"
  },
  "language_info": {
   "codemirror_mode": {
    "name": "ipython",
    "version": 3
   },
   "file_extension": ".py",
   "mimetype": "text/x-python",
   "name": "python",
   "nbconvert_exporter": "python",
   "pygments_lexer": "ipython3",
   "version": "3.7.4"
  }
 },
 "nbformat": 4,
 "nbformat_minor": 2
}
